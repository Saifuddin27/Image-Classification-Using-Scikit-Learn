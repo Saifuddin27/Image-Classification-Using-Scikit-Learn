{
 "cells": [
  {
   "cell_type": "code",
   "execution_count": 1,
   "metadata": {},
   "outputs": [],
   "source": [
    "# Importing the necessary modules.\n",
    "import numpy as np\n",
    "import matplotlib.pyplot as plt\n",
    "import cv2\n",
    "import os\n",
    "import random\n",
    "from keras.models import Sequential\n",
    "from keras.layers import Dense, Dropout, Flatten\n",
    "from keras.layers.convolutional import Conv2D, MaxPooling2D\n",
    "from sklearn.preprocessing import LabelBinarizer\n",
    "from tensorflow.keras.utils import to_categorical\n",
    "from imutils import paths\n",
    "from sklearn.model_selection import train_test_split"
   ]
  },
  {
   "cell_type": "code",
   "execution_count": 2,
   "metadata": {},
   "outputs": [],
   "source": [
    "dir_path = 'training_set'\n",
    "categories = ['cats','dogs']"
   ]
  },
  {
   "cell_type": "code",
   "execution_count": 3,
   "metadata": {},
   "outputs": [],
   "source": [
    "data = []\n",
    "\n",
    "for i in categories:\n",
    "    # Joining path between dog,cat folder and i by using path.join  \n",
    "    paths = os.path.join(dir_path,i)\n",
    "    \n",
    "    # Listing folders using listdir\n",
    "    for j in os.listdir(paths):\n",
    "        img_path = os.path.join(paths,j)\n",
    "        labels = categories.index(i)\n",
    "        img = cv2.imread(img_path,cv2.IMREAD_GRAYSCALE)\n",
    "        img = cv2.resize(img,(150,150))\n",
    "        data.append([img,labels])"
   ]
  },
  {
   "cell_type": "code",
   "execution_count": 4,
   "metadata": {},
   "outputs": [],
   "source": [
    "random.shuffle(data)"
   ]
  },
  {
   "cell_type": "code",
   "execution_count": 5,
   "metadata": {},
   "outputs": [
    {
     "name": "stdout",
     "output_type": "stream",
     "text": [
      "8005\n"
     ]
    }
   ],
   "source": [
    "print(len(data))"
   ]
  },
  {
   "cell_type": "code",
   "execution_count": 6,
   "metadata": {},
   "outputs": [],
   "source": [
    "x = []\n",
    "y = []\n",
    "\n",
    "for features,label in data:\n",
    "    x.append(features)\n",
    "    y.append(label)\n",
    "    \n",
    "#x = np.array(x).reshape(-1, 150, 150, 1)    "
   ]
  },
  {
   "cell_type": "code",
   "execution_count": 7,
   "metadata": {},
   "outputs": [],
   "source": [
    "#Converting lists into numpy arrays\n",
    "x = np.array(x)\n",
    "y = np.array(y)"
   ]
  },
  {
   "cell_type": "code",
   "execution_count": 8,
   "metadata": {},
   "outputs": [],
   "source": [
    "x = x/255.0"
   ]
  },
  {
   "cell_type": "code",
   "execution_count": 9,
   "metadata": {},
   "outputs": [],
   "source": [
    "x = np.array(x).reshape(-1, 150, 150, 1) "
   ]
  },
  {
   "cell_type": "code",
   "execution_count": 10,
   "metadata": {},
   "outputs": [
    {
     "name": "stdout",
     "output_type": "stream",
     "text": [
      "Shape of train images is: (8005, 150, 150, 1)\n",
      "Shape of labels is: (8005,)\n"
     ]
    }
   ],
   "source": [
    "print(\"Shape of train images is:\", x.shape)\n",
    "print(\"Shape of labels is:\", y.shape)"
   ]
  },
  {
   "cell_type": "markdown",
   "metadata": {},
   "source": [
    "initialize the CNN"
   ]
  },
  {
   "cell_type": "code",
   "execution_count": 11,
   "metadata": {},
   "outputs": [],
   "source": [
    "model = Sequential()\n",
    "model.add(Conv2D(64,(3,3), activation='relu', input_shape = (x.shape[1:])))\n",
    "model.add(MaxPooling2D(pool_size=(2,2)))\n",
    "\n",
    "model.add(Conv2D(64,(3,3), activation='relu'))\n",
    "model.add(MaxPooling2D(pool_size=(2,2)))\n",
    "\n",
    "model.add(Flatten())\n",
    "\n",
    "model.add(Dense(128,activation='relu'))\n",
    "model.add(Dense(1,activation='softmax'))"
   ]
  },
  {
   "cell_type": "code",
   "execution_count": 12,
   "metadata": {},
   "outputs": [
    {
     "name": "stdout",
     "output_type": "stream",
     "text": [
      "Model: \"sequential\"\n",
      "_________________________________________________________________\n",
      " Layer (type)                Output Shape              Param #   \n",
      "=================================================================\n",
      " conv2d (Conv2D)             (None, 148, 148, 64)      640       \n",
      "                                                                 \n",
      " max_pooling2d (MaxPooling2D  (None, 74, 74, 64)       0         \n",
      " )                                                               \n",
      "                                                                 \n",
      " conv2d_1 (Conv2D)           (None, 72, 72, 64)        36928     \n",
      "                                                                 \n",
      " max_pooling2d_1 (MaxPooling  (None, 36, 36, 64)       0         \n",
      " 2D)                                                             \n",
      "                                                                 \n",
      " flatten (Flatten)           (None, 82944)             0         \n",
      "                                                                 \n",
      " dense (Dense)               (None, 128)               10616960  \n",
      "                                                                 \n",
      " dense_1 (Dense)             (None, 1)                 129       \n",
      "                                                                 \n",
      "=================================================================\n",
      "Total params: 10,654,657\n",
      "Trainable params: 10,654,657\n",
      "Non-trainable params: 0\n",
      "_________________________________________________________________\n"
     ]
    }
   ],
   "source": [
    "model.summary()"
   ]
  },
  {
   "cell_type": "code",
   "execution_count": 13,
   "metadata": {},
   "outputs": [],
   "source": [
    "model.compile(optimizer='adam',\n",
    "              loss='binary_crossentropy',\n",
    "              metrics=['accuracy'])"
   ]
  },
  {
   "cell_type": "code",
   "execution_count": 14,
   "metadata": {},
   "outputs": [
    {
     "name": "stdout",
     "output_type": "stream",
     "text": [
      "Epoch 1/20\n",
      "226/226 [==============================] - 50s 217ms/step - loss: 0.6840 - accuracy: 0.5017 - val_loss: 0.6560 - val_accuracy: 0.4881\n",
      "Epoch 2/20\n",
      "226/226 [==============================] - 50s 223ms/step - loss: 0.5886 - accuracy: 0.5017 - val_loss: 0.5998 - val_accuracy: 0.4881\n",
      "Epoch 3/20\n",
      "226/226 [==============================] - 51s 227ms/step - loss: 0.4631 - accuracy: 0.5017 - val_loss: 0.5901 - val_accuracy: 0.4881\n",
      "Epoch 4/20\n",
      "226/226 [==============================] - 51s 228ms/step - loss: 0.3241 - accuracy: 0.5017 - val_loss: 0.7281 - val_accuracy: 0.4881\n",
      "Epoch 5/20\n",
      "226/226 [==============================] - 52s 230ms/step - loss: 0.1683 - accuracy: 0.5017 - val_loss: 0.8439 - val_accuracy: 0.4881\n",
      "Epoch 6/20\n",
      "226/226 [==============================] - 52s 228ms/step - loss: 0.0701 - accuracy: 0.5017 - val_loss: 1.1947 - val_accuracy: 0.4881\n",
      "Epoch 7/20\n",
      "226/226 [==============================] - 51s 224ms/step - loss: 0.0222 - accuracy: 0.5017 - val_loss: 1.5886 - val_accuracy: 0.4881\n",
      "Epoch 8/20\n",
      "226/226 [==============================] - 51s 227ms/step - loss: 0.0065 - accuracy: 0.5017 - val_loss: 1.8338 - val_accuracy: 0.4881\n",
      "Epoch 9/20\n",
      "226/226 [==============================] - 51s 226ms/step - loss: 0.0030 - accuracy: 0.5017 - val_loss: 1.9550 - val_accuracy: 0.4881\n",
      "Epoch 10/20\n",
      "226/226 [==============================] - 53s 235ms/step - loss: 8.5095e-04 - accuracy: 0.5017 - val_loss: 2.1462 - val_accuracy: 0.4881\n",
      "Epoch 11/20\n",
      "226/226 [==============================] - 52s 230ms/step - loss: 3.9605e-04 - accuracy: 0.5017 - val_loss: 2.3145 - val_accuracy: 0.4881\n",
      "Epoch 12/20\n",
      "226/226 [==============================] - 52s 230ms/step - loss: 2.4840e-04 - accuracy: 0.5017 - val_loss: 2.3842 - val_accuracy: 0.4881\n",
      "Epoch 13/20\n",
      "226/226 [==============================] - 52s 230ms/step - loss: 1.6759e-04 - accuracy: 0.5017 - val_loss: 2.4565 - val_accuracy: 0.4881\n",
      "Epoch 14/20\n",
      "226/226 [==============================] - 52s 231ms/step - loss: 1.1543e-04 - accuracy: 0.5017 - val_loss: 2.5373 - val_accuracy: 0.4881\n",
      "Epoch 15/20\n",
      "226/226 [==============================] - 52s 232ms/step - loss: 8.7181e-05 - accuracy: 0.5017 - val_loss: 2.5823 - val_accuracy: 0.4881\n",
      "Epoch 16/20\n",
      "226/226 [==============================] - 51s 227ms/step - loss: 6.6619e-05 - accuracy: 0.5017 - val_loss: 2.6423 - val_accuracy: 0.4881\n",
      "Epoch 17/20\n",
      "226/226 [==============================] - 52s 232ms/step - loss: 5.1750e-05 - accuracy: 0.5017 - val_loss: 2.6903 - val_accuracy: 0.4881\n",
      "Epoch 18/20\n",
      "226/226 [==============================] - 53s 232ms/step - loss: 4.1318e-05 - accuracy: 0.5017 - val_loss: 2.7288 - val_accuracy: 0.4881\n",
      "Epoch 19/20\n",
      "226/226 [==============================] - 52s 232ms/step - loss: 3.3445e-05 - accuracy: 0.5017 - val_loss: 2.7758 - val_accuracy: 0.4881\n",
      "Epoch 20/20\n",
      "226/226 [==============================] - 52s 229ms/step - loss: 2.7066e-05 - accuracy: 0.5017 - val_loss: 2.8244 - val_accuracy: 0.4881\n"
     ]
    },
    {
     "data": {
      "text/plain": [
       "<keras.callbacks.History at 0x22451aef310>"
      ]
     },
     "execution_count": 14,
     "metadata": {},
     "output_type": "execute_result"
    }
   ],
   "source": [
    "model.fit(x, y, epochs=20, validation_split=0.1)"
   ]
  },
  {
   "cell_type": "code",
   "execution_count": 15,
   "metadata": {},
   "outputs": [],
   "source": [
    "model.save('my_model.h5')"
   ]
  },
  {
   "cell_type": "code",
   "execution_count": 16,
   "metadata": {},
   "outputs": [
    {
     "data": {
      "text/plain": [
       "1682606015.0236742"
      ]
     },
     "execution_count": 16,
     "metadata": {},
     "output_type": "execute_result"
    }
   ],
   "source": [
    "import time\n",
    "time.time()"
   ]
  },
  {
   "cell_type": "code",
   "execution_count": 17,
   "metadata": {},
   "outputs": [],
   "source": [
    "from keras.models import load_model\n",
    "import numpy as np\n",
    "CATEGORIES = ['Cat', 'Dog']\n",
    "\n",
    "\n",
    "def image(path):\n",
    "    img = cv2.imread(path, cv2.IMREAD_GRAYSCALE)\n",
    "    new_arr = cv2.resize(img, (150, 150))\n",
    "    new_arr = np.array(new_arr)\n",
    "    new_arr = new_arr.reshape(-1, 150, 150, 1)\n",
    "    return new_arr\n",
    "\n",
    "model = load_model('my_model.h5')"
   ]
  },
  {
   "cell_type": "code",
   "execution_count": 18,
   "metadata": {},
   "outputs": [
    {
     "name": "stdout",
     "output_type": "stream",
     "text": [
      "1/1 [==============================] - 0s 99ms/step\n",
      "Cat\n"
     ]
    }
   ],
   "source": [
    "prediction = model.predict([image('test_of_model/aa.jpg')])\n",
    "print(CATEGORIES[prediction.argmax()])"
   ]
  },
  {
   "cell_type": "code",
   "execution_count": null,
   "metadata": {},
   "outputs": [],
   "source": []
  }
 ],
 "metadata": {
  "kernelspec": {
   "display_name": "Python 3 (ipykernel)",
   "language": "python",
   "name": "python3"
  },
  "language_info": {
   "codemirror_mode": {
    "name": "ipython",
    "version": 3
   },
   "file_extension": ".py",
   "mimetype": "text/x-python",
   "name": "python",
   "nbconvert_exporter": "python",
   "pygments_lexer": "ipython3",
   "version": "3.10.9"
  }
 },
 "nbformat": 4,
 "nbformat_minor": 4
}
